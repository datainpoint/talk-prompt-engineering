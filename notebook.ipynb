{
 "cells": [
  {
   "cell_type": "markdown",
   "id": "71be0859",
   "metadata": {
    "slideshow": {
     "slide_type": "slide"
    }
   },
   "source": [
    "# Learn Programming and Data Analysis with Prompt Engineering\n",
    "\n",
    "[數聚點](https://datainpoint.com) | 郭耀仁 <yaojenkuo@ntu.edu.tw> | TDCC"
   ]
  },
  {
   "cell_type": "markdown",
   "id": "80fe4c88",
   "metadata": {
    "slideshow": {
     "slide_type": "slide"
    }
   },
   "source": [
    "## Prompt Engineering"
   ]
  },
  {
   "cell_type": "markdown",
   "id": "375ee2f0",
   "metadata": {
    "slideshow": {
     "slide_type": "subslide"
    }
   },
   "source": [
    "## What is Prompt Engineering\n",
    "\n",
    "Prompt engineering is the practice of designing and refining questions or instructions to receive specific responses from AI models, especially Large Language Models."
   ]
  },
  {
   "cell_type": "markdown",
   "id": "f038b67a",
   "metadata": {
    "slideshow": {
     "slide_type": "subslide"
    }
   },
   "source": [
    "## Relationship between data science vs. artificial intelligence vs. machine learning vs. deep learning can be illustrated with set operations\n",
    "\n",
    "![](01.png)"
   ]
  },
  {
   "cell_type": "markdown",
   "id": "27c12af5",
   "metadata": {
    "slideshow": {
     "slide_type": "subslide"
    }
   },
   "source": [
    "## About Large Language Models\n",
    "\n",
    "- LLMs are models behind popular tools including ChatGPT, Google Bard, Claude and DALL-E...etc.\n",
    "- They are called \"large\" because these types of models are normally made millions or billions of parameters.\n",
    "- The underlying technology of LLMs is called transformer, which is a type of deep learning architecture. Transformer is the T in GPT(Generative Pretrained Transformer)."
   ]
  },
  {
   "cell_type": "markdown",
   "id": "f0a32cd3",
   "metadata": {
    "slideshow": {
     "slide_type": "subslide"
    }
   },
   "source": [
    "## Billions of parameters\n",
    "\n",
    "![](02.png)\n",
    "\n",
    "Source: <https://informationisbeautiful.net/visualizations/the-rise-of-generative-ai-large-language-models-llms-like-chatgpt/>"
   ]
  },
  {
   "cell_type": "markdown",
   "id": "834f3002",
   "metadata": {
    "slideshow": {
     "slide_type": "subslide"
    }
   },
   "source": [
    "## Generative Pre-trained Transformers\n",
    "\n",
    "- Generative Pre-trained Transformers (GPT) are a type of deep learning model used to generate human-like text.\n",
    "- Before Transformers, there are fully-connected NN, Convolutional NN, RNN, LSTM and each of them specializes a certain domain.\n",
    "- Common uses include answering questions, summarizing text, translating text to other languages, generating code, stories, conversations, and other content types. "
   ]
  },
  {
   "cell_type": "markdown",
   "id": "0d41bf5c",
   "metadata": {
    "slideshow": {
     "slide_type": "subslide"
    }
   },
   "source": [
    "## Before GPT\n",
    "\n",
    "- Text generation was performed with other deep learning models, such as recursive neural networks (RNNs) and long short-term memory neural networks (LSTMs).\n",
    "- The RNNs and LSTMs performed well for outputting single words or short phrases but could not generate realistic longer content.\n",
    "- The current AI revolution for natural language only became possible with the invention of transformer models, starting with Google's BERT in 2018."
   ]
  },
  {
   "cell_type": "markdown",
   "id": "1bd7d0dd",
   "metadata": {
    "slideshow": {
     "slide_type": "subslide"
    }
   },
   "source": [
    "## GPT-1\n",
    "\n",
    "In 2018, OpenAI published a paper (Improving Language Understanding by Generative Pre-Training) about using natural language understanding using their GPT-1 language model. This model was a proof-of-concept and was not released publicly.\n",
    "\n",
    "Source: <https://paperswithcode.com/paper/improving-language-understanding-by>"
   ]
  },
  {
   "cell_type": "markdown",
   "id": "7eacf081",
   "metadata": {
    "slideshow": {
     "slide_type": "subslide"
    }
   },
   "source": [
    "## GPT-2\n",
    "\n",
    "In 2019, OpenAI published another paper (Language Models are Unsupervised Multitask Learners) about their GPT-2 model. This time, the model was made available to the machine learning community and found some adoption for text generation tasks. GPT-2 could often generate a couple of sentences before breaking down. This was state-of-the-art in 2019.\n",
    "\n",
    "Source: <https://paperswithcode.com/paper/language-models-are-unsupervised-multitask>"
   ]
  },
  {
   "cell_type": "markdown",
   "id": "77ea7ac9",
   "metadata": {
    "slideshow": {
     "slide_type": "subslide"
    }
   },
   "source": [
    "## GPT-3\n",
    "\n",
    "- In 2020, OpenAI published another paper (Language Models are Few-Shot Learners) about their GPT-3 model. The model had 100 times more parameters than GPT-2 and was trained on an even larger text dataset, resulting in better model performance. The model continued to be improved with various iterations known as the GPT-3.5 series, including the conversation-focused ChatGPT.\n",
    "- This version took the world by storm in 2022 after surprising the world with its ability to generate pages of human-like text. ChatGPT became the fastest-growing web application ever, reaching 100 million users in just two months.\n",
    "\n",
    "Source: <https://arxiv.org/abs/2005.14165v4>"
   ]
  },
  {
   "cell_type": "markdown",
   "id": "713b2c20",
   "metadata": {
    "slideshow": {
     "slide_type": "subslide"
    }
   },
   "source": [
    "## GPT-4\n",
    "\n",
    "In 2023, OpenAI published GPT-4 improves on GPT-3.5 models GPT-4 scoring 40% higher than GPT-3.5 on OpenAI's internal factual performance benchmark."
   ]
  },
  {
   "cell_type": "markdown",
   "id": "95cb6f02",
   "metadata": {
    "slideshow": {
     "slide_type": "subslide"
    }
   },
   "source": [
    "## Why prompt engineering matters\n",
    "\n",
    "- OpenAI's GPT series, especially GPT-2 and GPT-3, took transformers to the next level.\n",
    "- The rise of GPT models underscored the importance of prompt engineering, as the quality of outputs became heavily reliant on the precision and clarity of prompts."
   ]
  },
  {
   "cell_type": "markdown",
   "id": "550363a3",
   "metadata": {
    "slideshow": {
     "slide_type": "subslide"
    }
   },
   "source": [
    "## Latest prompt engineering developments\n",
    "\n",
    "- Adaptive prompting techniques: to adjust their responses based on the user's input style and preferences.\n",
    "- Multimodal prompt engineering: to process and respond to prompts that include a mix of text, images, and sometimes even audio inputs.\n",
    "- Integration with domain-specific models."
   ]
  },
  {
   "cell_type": "markdown",
   "id": "21d25f04",
   "metadata": {
    "slideshow": {
     "slide_type": "subslide"
    }
   },
   "source": [
    "## Key elements of a prompt\n",
    "\n",
    "- Instruction: {summarize...}, {explain in detail...}, {elaborate with example...}.\n",
    "- Context.\n",
    "- Input data: given the following {text, paragraph, numbers...}.\n",
    "- Output indicator: return the result in {json, csv, ...} format."
   ]
  },
  {
   "cell_type": "markdown",
   "id": "ec13f766",
   "metadata": {
    "slideshow": {
     "slide_type": "subslide"
    }
   },
   "source": [
    "## Context format\n",
    "\n",
    "- Plain text.\n",
    "- Plain text with Markdown(`.md`) format.\n",
    "\n",
    "Source: <https://markdown.tw/>"
   ]
  },
  {
   "cell_type": "markdown",
   "id": "fc682acc",
   "metadata": {
    "slideshow": {
     "slide_type": "subslide"
    }
   },
   "source": [
    "## The \"Learn to code\" 1.0\n",
    "\n",
    "- Official documentations.\n",
    "- Books.\n",
    "- Bootcamps."
   ]
  },
  {
   "cell_type": "markdown",
   "id": "56d26eef",
   "metadata": {
    "slideshow": {
     "slide_type": "subslide"
    }
   },
   "source": [
    "## The \"Learn to code\" 2.0\n",
    "\n",
    "- StackOverflow.\n",
    "- Blog posts.\n",
    "- Online courses.\n",
    "- YouTube videos.\n",
    "- Online judgers."
   ]
  },
  {
   "cell_type": "markdown",
   "id": "203ae553",
   "metadata": {
    "slideshow": {
     "slide_type": "subslide"
    }
   },
   "source": [
    "## The \"Learn to code\" 3.0\n",
    "\n",
    "- Prompt engineering.\n",
    "- GitHub Copilot.\n",
    "- Cursor."
   ]
  },
  {
   "cell_type": "markdown",
   "id": "958b6df7",
   "metadata": {
    "slideshow": {
     "slide_type": "subslide"
    }
   },
   "source": [
    "## ChatGPT is so good at coding\n",
    "\n",
    "- Addressing 728 coding problems from the LeetCode testing platform in five programming languages: C, C++, Java, JavaScript, and Python.\n",
    "- It was able to produce functional code for easy, medium, and hard problems on LeetCode with success rates of about 89, 71, and 40 percent, respectively.\n",
    "\n",
    "Source: <https://ieeexplore.ieee.org/document/10507163>"
   ]
  },
  {
   "cell_type": "markdown",
   "id": "4f92c4c0",
   "metadata": {
    "slideshow": {
     "slide_type": "subslide"
    }
   },
   "source": [
    "## Why is ChatGPT so good at coding\n",
    "\n",
    "- Coding is a matter of input/output mapping, which shares the same spirit with modeling.\n",
    "- Most training data has a comprehensive documentation string. \n",
    "- The Q&A community posts(e.g. StackOverflow) highlight with code chunks.\n",
    "- GitHub has a wide variety of public repositories for different languages.\n",
    "- LeetCode has a discussion thread for each coding challenge."
   ]
  },
  {
   "cell_type": "markdown",
   "id": "45b6f852",
   "metadata": {
    "slideshow": {
     "slide_type": "slide"
    }
   },
   "source": [
    "## Learn Programming with Prompt Engineering"
   ]
  },
  {
   "cell_type": "markdown",
   "id": "17fb5191",
   "metadata": {
    "slideshow": {
     "slide_type": "subslide"
    }
   },
   "source": [
    "## Conceptual prompts\n",
    "\n",
    "> You are now a senior Python programmer.\n",
    ">\n",
    "> Please outline the roadmap for a beginner to learn Python from scratch."
   ]
  },
  {
   "cell_type": "markdown",
   "id": "a2d0d99d",
   "metadata": {
    "slideshow": {
     "slide_type": "subslide"
    }
   },
   "source": [
    "## Conceptual prompts(cont'd)\n",
    "\n",
    "> Please write me a tutorial on {title}. Relevant key points include {point_1} , {point_2}, and {point_3}."
   ]
  },
  {
   "cell_type": "markdown",
   "id": "89af3258",
   "metadata": {
    "slideshow": {
     "slide_type": "subslide"
    }
   },
   "source": [
    "## Code explanation\n",
    "\n",
    "> I don't understand this {function}/{class}. Can you please explain what it does, and provide an example? {Insert function}/{Insert class}"
   ]
  },
  {
   "cell_type": "markdown",
   "id": "26514385",
   "metadata": {
    "slideshow": {
     "slide_type": "subslide"
    }
   },
   "source": [
    "## Code suggestion\n",
    "\n",
    "> I've written this {line of code}. Please suggest me how to make it {more efficient}/{easier to read}/{more Pythonic}? {Insert code}"
   ]
  },
  {
   "cell_type": "markdown",
   "id": "b3044a5d",
   "metadata": {
    "slideshow": {
     "slide_type": "subslide"
    }
   },
   "source": [
    "## Write unit tests\n",
    "\n",
    "> I've written this {function}/{class}. Can you please write {some} unit test cases for {function_name}/{class_name}?{Insert function}/{Insert class}"
   ]
  },
  {
   "cell_type": "markdown",
   "id": "48a8f791",
   "metadata": {
    "slideshow": {
     "slide_type": "subslide"
    }
   },
   "source": [
    "## Question recommendations\n",
    "\n",
    "> Have you heard of {CodeWars}/{LeetCode}/{HackerRank}?\n",
    ">\n",
    "> Please list out 10 most-recommended easy-level {language} questions on {CodeWars}/{LeetCode}/{HackerRank} related to {topic}."
   ]
  },
  {
   "cell_type": "markdown",
   "id": "fa5dde59",
   "metadata": {
    "slideshow": {
     "slide_type": "subslide"
    }
   },
   "source": [
    "## Use ChatGPT as lecturer's assistant\n",
    "\n",
    "- Take [Python 的 50+ 練習：資料科學學習手冊](https://hahow.in/cr/pythonfiftyplus) as an example.\n",
    "- Take [R 語言的 50+ 練習：統計分析的前哨站](https://hahow.in/cr/rfiftyplus) as an example."
   ]
  },
  {
   "cell_type": "markdown",
   "id": "e0a16e89",
   "metadata": {
    "slideshow": {
     "slide_type": "subslide"
    }
   },
   "source": [
    "## Use ChatGPT as student's assistant\n",
    "\n",
    "- Take [Python 的 50+ 練習：資料科學學習手冊](https://hahow.in/cr/pythonfiftyplus) as an example.\n",
    "- Take [R 語言的 50+ 練習：統計分析的前哨站](https://hahow.in/cr/rfiftyplus) as an example."
   ]
  },
  {
   "cell_type": "markdown",
   "id": "ae04140f",
   "metadata": {
    "slideshow": {
     "slide_type": "slide"
    }
   },
   "source": [
    "## Learn Data Analysis with Prompt Engineering"
   ]
  },
  {
   "cell_type": "markdown",
   "id": "1d70ad2a",
   "metadata": {
    "slideshow": {
     "slide_type": "subslide"
    }
   },
   "source": [
    "## Conceptual prompts\n",
    "\n",
    "> You are now a senior Data Analyst with excellent Python and SQL knowledge.\n",
    ">\n",
    "> Please outline the roadmap for a beginner to learn Data Science from scratch."
   ]
  },
  {
   "cell_type": "markdown",
   "id": "407900a1",
   "metadata": {
    "slideshow": {
     "slide_type": "subslide"
    }
   },
   "source": [
    "## Conceptual prompts(cont'd)\n",
    "\n",
    "> Please write me a tutorial on {title}. Relevant key points include {point_1} , {point_2}, and {point_3}."
   ]
  },
  {
   "cell_type": "markdown",
   "id": "3a8e4a8a",
   "metadata": {
    "slideshow": {
     "slide_type": "subslide"
    }
   },
   "source": [
    "## Create a table with natural language\n",
    "\n",
    "> Please write me a SQL statement in {dbms_name} that create a table {table name} with the columns {column_name} and data types {data_type}. Include relevant constraints."
   ]
  },
  {
   "cell_type": "markdown",
   "id": "f4c0be58",
   "metadata": {
    "slideshow": {
     "slide_type": "subslide"
    }
   },
   "source": [
    "## Query with natural language\n",
    "\n",
    "> Given {database_name} and {table_name}. Please write me a SQL statement to find {your_request}."
   ]
  },
  {
   "cell_type": "markdown",
   "id": "819e2cd8",
   "metadata": {
    "slideshow": {
     "slide_type": "subslide"
    }
   },
   "source": [
    "## Data wrangling with Python\n",
    "\n",
    "> Given a dataframe {table_name} that consists of the columns {column_names}. Can you convert it from wide to long format?"
   ]
  },
  {
   "cell_type": "markdown",
   "id": "d7366a62",
   "metadata": {
    "slideshow": {
     "slide_type": "subslide"
    }
   },
   "source": [
    "## Data visualization with Python\n",
    "\n",
    "> Given a dataframe {table_name} that consists of the columns {column_names}. Can you plot a {plot_type} with {module_name}?"
   ]
  },
  {
   "cell_type": "markdown",
   "id": "737fcf3c",
   "metadata": {
    "slideshow": {
     "slide_type": "subslide"
    }
   },
   "source": [
    "## Use ChatGPT as lecturer's assistant\n",
    "\n",
    "- Take [SQL的五十道練習：初學者友善的資料庫入門](https://hahow.in/cr/sqlfifty) as an example.\n",
    "- Take [Python 的 50+ 練習：資料科學學習手冊](https://hahow.in/cr/pythonfiftyplus) as an example."
   ]
  },
  {
   "cell_type": "markdown",
   "id": "9679751d",
   "metadata": {
    "slideshow": {
     "slide_type": "subslide"
    }
   },
   "source": [
    "## Use ChatGPT as student's assistant\n",
    "\n",
    "- Take [SQL的五十道練習：初學者友善的資料庫入門](https://hahow.in/cr/sqlfifty) as an example.\n",
    "- Take [Python 的 50+ 練習：資料科學學習手冊](https://hahow.in/cr/pythonfiftyplus) as an example."
   ]
  },
  {
   "cell_type": "markdown",
   "id": "bfb5add3",
   "metadata": {
    "slideshow": {
     "slide_type": "slide"
    }
   },
   "source": [
    "## Surviving in AI world"
   ]
  },
  {
   "cell_type": "markdown",
   "id": "60172efe",
   "metadata": {
    "slideshow": {
     "slide_type": "subslide"
    }
   },
   "source": [
    "## Big Tech Battles On AI\n",
    "\n",
    "In the first half of 2024, Alphabet, Amazon, Meta and Microsoft spent nearly $104 billion in capex, up 47% YoY, with more than half of that total coming in Q2.\n",
    "\n",
    "\n",
    "![](03.png)\n",
    "\n",
    "Source: <https://www.forbes.com/sites/bethkindig/2024/08/08/microsoft-leads-big-tech-in-ai-monetization-amazon-a-close-second>"
   ]
  },
  {
   "cell_type": "markdown",
   "id": "ff2af118",
   "metadata": {
    "slideshow": {
     "slide_type": "subslide"
    }
   },
   "source": [
    "## Big Tech Battles On AI(Cont'd)\n",
    "\n",
    "> \"I’d rather build capacity before it is needed rather than too late.\"\n",
    "> \n",
    "> \"Part of what’s important about A.I. is that it can be used to improve all of our products in almost every way.\"\n",
    "> \n",
    "> Mark Zuckerberg\n",
    "\n",
    "Source: <https://www.nytimes.com/2024/07/31/technology/meta-earnings-artificial-intelligence.html>"
   ]
  },
  {
   "cell_type": "markdown",
   "id": "272c44f4",
   "metadata": {
    "slideshow": {
     "slide_type": "subslide"
    }
   },
   "source": [
    "## Big Tech Battles On AI(Cont'd)\n",
    "\n",
    "Elon Musk is spending \\\\$10 billion this year(2024) alone to bulk up on AI training and inference, and position Tesla at the forefront of the industry for real-life applications outside of generative AI.\n",
    "\n",
    "> \"Any company not spending at this level, and doing so efficiently, cannot compete.\"\n",
    "> \n",
    "> Elon Musk\n",
    "\n",
    "Source: <https://www.nytimes.com/2024/07/31/technology/meta-earnings-artificial-intelligence.html>"
   ]
  },
  {
   "cell_type": "markdown",
   "id": "7c23c30e",
   "metadata": {
    "slideshow": {
     "slide_type": "subslide"
    }
   },
   "source": [
    "## Big Tech Battles On AI(Cont'd)\n",
    "\n",
    "> \"Whether we burn \\\\$500 million a year or \\\\$5 billion or \\\\$50 billion a year I don’t care, I genuinely don’t.\"\n",
    ">\n",
    "> \"As long as we can figure out a way to pay the bills, we’re making AGI. It’s going to be expensive.\"\n",
    ">\n",
    "> OpenAI’s Sam Altman\n",
    "\n",
    "Source: <https://finance.yahoo.com/news/openai-sam-altman-doesn-t-161126520.html>"
   ]
  },
  {
   "cell_type": "markdown",
   "id": "5afc3cb2",
   "metadata": {
    "slideshow": {
     "slide_type": "subslide"
    }
   },
   "source": [
    "## Big Tech Battles On AI(Cont'd)\n",
    "\n",
    "|Year|Model|Company|Training Cost(USD)|\n",
    "|----|:----|:------|---------:|\n",
    "|2017|Transformer|Google|930|\t\n",
    "|2018|BERT-Large|Google|3,288|\n",
    "|2019|RoBERTa Large|Meta|160,018|\n",
    "|2020|GPT-3 175B (davinci)|OpenAI|4,324,883|\n",
    "|2021|Megatron-Turing NLG 530B|Microsoft/Nvidia|6,405,653|\n",
    "|2022|LaMDA|Google|\t1,319,586|\n",
    "|2022|PaLM (540B)|Google|12,389,056|\n",
    "|2023|GPT-4|OpenAI|78,352,034|\n",
    "|2023|Llama 2 70B|Meta|3,931,897|\n",
    "|2023|Gemini Ultra|Google|191,400,000|\n",
    "\n",
    "Source: <https://aiindex.stanford.edu/report>"
   ]
  },
  {
   "cell_type": "markdown",
   "id": "d5f297b4",
   "metadata": {
    "slideshow": {
     "slide_type": "subslide"
    }
   },
   "source": [
    "## 55% of organizations are now experimenting generative AI technologies\n",
    "\n",
    "Gartner, Inc. poll of more than 1,400 executive leaders, 45% reported that they are in piloting mode with generative AI, and another 10% have put generative AI solutions into production.\n",
    "\n",
    "Source: <https://www.gartner.com/en/newsroom/press-releases/2023-10-03-gartner-poll-finds-55-percent-of-organizations-are-in-piloting-or-production-mode-with-generative-ai>"
   ]
  },
  {
   "cell_type": "markdown",
   "id": "fa4eacf0",
   "metadata": {
    "slideshow": {
     "slide_type": "subslide"
    }
   },
   "source": [
    "## 63% of data specialists are using generative AI technologies\n",
    "\n",
    "The majority (63%) of data science practitioners said they’re using generative AI the same amount or more now compared to 2022. Many feel their jobs are threatened by generative AI.\n",
    "\n",
    "Source: <https://www.anaconda.com/lp/state-of-data-science-report-2023>"
   ]
  },
  {
   "cell_type": "markdown",
   "id": "72ad564b",
   "metadata": {
    "slideshow": {
     "slide_type": "subslide"
    }
   },
   "source": [
    "## 85% of enterprises will expand AI with open source models\n",
    "\n",
    "Many are turning to open source models such as GPT-J, BERT, and FLAN-T5. The release of portable model families such as Llama 2, marketplaces such as Hugging Face, and corporate investments into these initiatives will further accelerate this trend.\n",
    "\n",
    "Source: <https://www.anaconda.com/lp/state-of-data-science-report-2023>"
   ]
  },
  {
   "cell_type": "markdown",
   "id": "3d0c242f",
   "metadata": {
    "slideshow": {
     "slide_type": "subslide"
    }
   },
   "source": [
    "## \"Boring AI\" use cases generate the majority of the value\n",
    "\n",
    "Knowledge workers utilizing GPT-4 experienced significant enhancements in efficiency and quality, particularly in domains like operations, customer service, legal and compliance, and technology.\n",
    "\n",
    "Source: <https://www.bcg.com/publications/2023/assessing-the-impact-of-generative-ai-on-workforce-productivity>"
   ]
  },
  {
   "cell_type": "markdown",
   "id": "23de4420",
   "metadata": {
    "slideshow": {
     "slide_type": "subslide"
    }
   },
   "source": [
    "## The rise of small domain-specific LLMs\n",
    "\n",
    "- ChatLaw(Law)\n",
    "- Med-PaLM 2(Medicine, Google)\n",
    "- BloombergGPT(Finance, Bloomberg)\n",
    "- Replit Code(Coding, [Replit](https://replit.com))\n",
    "\n",
    "Source: <https://www.bcg.com/publications/2023/assessing-the-impact-of-generative-ai-on-workforce-productivity>"
   ]
  },
  {
   "cell_type": "markdown",
   "id": "1af3bfd9",
   "metadata": {
    "slideshow": {
     "slide_type": "subslide"
    }
   },
   "source": [
    "## The risks of AI bubble\n",
    "\n",
    "Wall Street investment banks including Goldman Sachs and Barclays, as well as VCs such as Sequoia Capital, have issued reports raising concerns about the sustainability of the AI gold rush, arguing that the technology might not be able to make the kind of money to justify the billions being invested into it.\n",
    "\n",
    "Source: <https://www.washingtonpost.com/technology/2024/07/24/ai-bubble-big-tech-stocks-goldman-sachs>"
   ]
  },
  {
   "cell_type": "markdown",
   "id": "61dc6020",
   "metadata": {
    "slideshow": {
     "slide_type": "subslide"
    }
   },
   "source": [
    "## 60% of employees will get prompt engineering training\n",
    "\n",
    "Prompt engineering will become a valuable asset across many roles, but not a career path.\n",
    "\n",
    "Source: <https://www.forrester.com/blogs/predictions-2024-data-and-analytics>"
   ]
  },
  {
   "cell_type": "markdown",
   "id": "1c323557",
   "metadata": {
    "slideshow": {
     "slide_type": "subslide"
    }
   },
   "source": [
    "## AI will focus data professions on value creation\n",
    "\n",
    "- Problem solving.\n",
    "- Project management.\n",
    "- Autonomy and collaboration.\n",
    "- Communication and storytelling.\n",
    "\n",
    "Source: <https://www.anaconda.com/lp/state-of-data-science-report-2023>"
   ]
  },
  {
   "cell_type": "markdown",
   "id": "730a156f",
   "metadata": {
    "slideshow": {
     "slide_type": "subslide"
    }
   },
   "source": [
    "## How coders can survive\n",
    "\n",
    "- Stick to basics and best practices.\n",
    "- Find the tool that fits.\n",
    "- Chain-of-thought prompting.\n",
    "- Be critical."
   ]
  },
  {
   "cell_type": "markdown",
   "id": "c6d7c9cb",
   "metadata": {
    "slideshow": {
     "slide_type": "subslide"
    }
   },
   "source": [
    "## Stick to basics and best practices\n",
    "\n",
    "- A lot more to software engineering than just generating code, from eliciting user requirements to debugging, testing, and more.\n",
    "- Analyzing a problem and finding elegant solutions.\n",
    "- That is algorithms, data structures, design pattern, and domain knowhow regarding programming and data analysis."
   ]
  },
  {
   "cell_type": "markdown",
   "id": "02d8a122",
   "metadata": {
    "slideshow": {
     "slide_type": "subslide"
    }
   },
   "source": [
    "## Find the tool that fits\n",
    "\n",
    "- To incorporate each tool into development workflow: the creation of unit tests, generating test data, or writing documentation...etc.\n",
    "- An open mind for new tools, don't settle on just one tool."
   ]
  },
  {
   "cell_type": "markdown",
   "id": "402243e6",
   "metadata": {
    "slideshow": {
     "slide_type": "subslide"
    }
   },
   "source": [
    "## Chain-of-thought prompting\n",
    "\n",
    "- To incorporate a divide-and-conquer strategy.\n",
    "- That is to break down a problem into multiple steps and tackle each one to solve the entire problem.\n",
    "- Instead of asking ChatGPT to write an entire program from scratch, divide those tasks and ask it to write specific functions for each."
   ]
  },
  {
   "cell_type": "markdown",
   "id": "2da0b738",
   "metadata": {
    "slideshow": {
     "slide_type": "subslide"
    }
   },
   "source": [
    "## Be critical\n",
    "\n",
    "- Be critical of the outputs, as they tend to hallucinate and produce inaccurate or incorrect code.\n",
    "- Privacy, copywright, and security are the underlining risks."
   ]
  },
  {
   "cell_type": "markdown",
   "id": "4685b732",
   "metadata": {
    "slideshow": {
     "slide_type": "subslide"
    }
   },
   "source": [
    "## Developers will survive\n",
    "\n",
    "> \"If you don't have someone who actually understands the business, understands the strategy, helping you work on the right things rather than the wrong things, chances are you won’t be very impactful.\"\n",
    ">\n",
    "> Cassie Kozyrkov, Google’s first Chief Decision Scientist"
   ]
  },
  {
   "cell_type": "markdown",
   "id": "c1f71616",
   "metadata": {
    "slideshow": {
     "slide_type": "subslide"
    }
   },
   "source": [
    "## Coders will survive\n",
    "\n",
    "> 我也很愛吃麵包，以前也犯了一樣的錯，可是我認識麵包店叔叔後，才暸解自己做的麵包，遠比偷來的還要美味。\n",
    ">\n",
    "> 麵包小偷2：誰偷了葡萄乾麵包\n",
    "\n",
    "Source: <https://www.books.com.tw/products/0010917146>"
   ]
  },
  {
   "cell_type": "markdown",
   "id": "fa727691",
   "metadata": {
    "slideshow": {
     "slide_type": "subslide"
    }
   },
   "source": [
    "## And so will others\n",
    "\n",
    "> 一群會計師聚在一起吃飯，聊到 AI 人工智慧未來會不會取代會計師這個行業。其中有一個會計師安慰大家說：「放心啦，東窗事發的時候，總要有人負責進去關，我們不會失業的啦！」\n",
    "\n",
    "Source: Google Search {會計} {AI} {笑話}"
   ]
  }
 ],
 "metadata": {
  "celltoolbar": "Slideshow",
  "kernelspec": {
   "display_name": "Python 3 (ipykernel)",
   "language": "python",
   "name": "python3"
  },
  "language_info": {
   "codemirror_mode": {
    "name": "ipython",
    "version": 3
   },
   "file_extension": ".py",
   "mimetype": "text/x-python",
   "name": "python",
   "nbconvert_exporter": "python",
   "pygments_lexer": "ipython3",
   "version": "3.12.5"
  }
 },
 "nbformat": 4,
 "nbformat_minor": 5
}
