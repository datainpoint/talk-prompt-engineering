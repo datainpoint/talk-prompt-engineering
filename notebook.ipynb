{
 "cells": [
  {
   "cell_type": "markdown",
   "id": "71be0859",
   "metadata": {
    "slideshow": {
     "slide_type": "slide"
    }
   },
   "source": [
    "# Learn Programming and Data Analysis with Prompt Engineering\n",
    "\n",
    "[數聚點](https://datainpoint.com) | 郭耀仁 <yaojenkuo@ntu.edu.tw> | TDCC"
   ]
  },
  {
   "cell_type": "markdown",
   "id": "80fe4c88",
   "metadata": {
    "slideshow": {
     "slide_type": "slide"
    }
   },
   "source": [
    "## Prompt Engineering"
   ]
  },
  {
   "cell_type": "markdown",
   "id": "375ee2f0",
   "metadata": {
    "slideshow": {
     "slide_type": "subslide"
    }
   },
   "source": [
    "## What is Prompt Engineering\n",
    "\n",
    "Prompt engineering is the practice of designing and refining questions or instructions to receive specific responses from AI models, especially Large Language Models."
   ]
  },
  {
   "cell_type": "markdown",
   "id": "f038b67a",
   "metadata": {
    "slideshow": {
     "slide_type": "subslide"
    }
   },
   "source": [
    "## Relationship between data science vs. artificial intelligence vs. machine learning vs. deep learning can be illustrated with set operations\n",
    "\n",
    "![](01.png)"
   ]
  },
  {
   "cell_type": "markdown",
   "id": "27c12af5",
   "metadata": {
    "slideshow": {
     "slide_type": "subslide"
    }
   },
   "source": [
    "## About Large Language Models\n",
    "\n",
    "- LLMs are models behind popular tools including ChatGPT, Google Bard, Claude and DALL-E...etc.\n",
    "- They are called \"large\" because these types of models are normally made millions or billions of parameters.\n",
    "- The underlying technology of LLMs is called transformer, which is a type of deep learning architecture.\n",
    "- Transformer is the T in GPT(Generative Pretrained Transformer)."
   ]
  },
  {
   "cell_type": "code",
   "execution_count": null,
   "id": "197dedc9",
   "metadata": {},
   "outputs": [],
   "source": []
  },
  {
   "cell_type": "markdown",
   "id": "45b6f852",
   "metadata": {
    "slideshow": {
     "slide_type": "slide"
    }
   },
   "source": [
    "## Learn Programming with Prompt Engineering"
   ]
  },
  {
   "cell_type": "code",
   "execution_count": null,
   "id": "cdaadc6f",
   "metadata": {},
   "outputs": [],
   "source": []
  },
  {
   "cell_type": "markdown",
   "id": "ae04140f",
   "metadata": {
    "slideshow": {
     "slide_type": "slide"
    }
   },
   "source": [
    "## Learn Data Analysis with Prompt Engineering"
   ]
  },
  {
   "cell_type": "code",
   "execution_count": null,
   "id": "4c7503e7",
   "metadata": {},
   "outputs": [],
   "source": []
  }
 ],
 "metadata": {
  "celltoolbar": "Slideshow",
  "kernelspec": {
   "display_name": "Python 3 (ipykernel)",
   "language": "python",
   "name": "python3"
  },
  "language_info": {
   "codemirror_mode": {
    "name": "ipython",
    "version": 3
   },
   "file_extension": ".py",
   "mimetype": "text/x-python",
   "name": "python",
   "nbconvert_exporter": "python",
   "pygments_lexer": "ipython3",
   "version": "3.12.4"
  }
 },
 "nbformat": 4,
 "nbformat_minor": 5
}
